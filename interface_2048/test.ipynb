{
 "cells": [
  {
   "cell_type": "code",
   "execution_count": 2,
   "metadata": {},
   "outputs": [],
   "source": [
    "import tkinter as tk\n",
    "from tkinter import Canvas, ttk"
   ]
  },
  {
   "cell_type": "code",
   "execution_count": 5,
   "metadata": {},
   "outputs": [],
   "source": [
    "def graphical_grid_init(n):\n",
    "    window = tk.Tk()\n",
    "    G_2048 = tk.Toplevel(window)\n",
    "    G_2048.grid()\n",
    "    background = tk.Frame(window)\n",
    "    C = Canvas(background, bg='#8B6C42', height=20*n, width=20*n)\n",
    "    \"\"\"\n",
    "    L = [0 for i in range(n**2)]\n",
    "    for i in range(n):\n",
    "        for j in range(n):\n",
    "            L[i*j] = C.create_rectangle(20*i, 20*j, 20*(i+1), 20*(j+1))\n",
    "            \"\"\"\n",
    "    rect = C.create_rectangle((0, 0, 20, 20))\n",
    "    C.pack()\n",
    "    window.mainloop()"
   ]
  },
  {
   "cell_type": "code",
   "execution_count": 3,
   "metadata": {},
   "outputs": [
    {
     "ename": "TclError",
     "evalue": "can't invoke \"wm\" command: application has been destroyed",
     "output_type": "error",
     "traceback": [
      "\u001b[1;31m---------------------------------------------------------------------------\u001b[0m",
      "\u001b[1;31mTclError\u001b[0m                                  Traceback (most recent call last)",
      "\u001b[1;32m~\\AppData\\Local\\Temp/ipykernel_3004/2257940420.py\u001b[0m in \u001b[0;36m<module>\u001b[1;34m\u001b[0m\n\u001b[0;32m      2\u001b[0m \u001b[0mG_2048\u001b[0m \u001b[1;33m=\u001b[0m \u001b[0mtk\u001b[0m\u001b[1;33m.\u001b[0m\u001b[0mToplevel\u001b[0m\u001b[1;33m(\u001b[0m\u001b[0mwindow\u001b[0m\u001b[1;33m)\u001b[0m\u001b[1;33m\u001b[0m\u001b[1;33m\u001b[0m\u001b[0m\n\u001b[0;32m      3\u001b[0m \u001b[0mwindow\u001b[0m\u001b[1;33m.\u001b[0m\u001b[0mmainloop\u001b[0m\u001b[1;33m(\u001b[0m\u001b[1;33m)\u001b[0m\u001b[1;33m\u001b[0m\u001b[1;33m\u001b[0m\u001b[0m\n\u001b[1;32m----> 4\u001b[1;33m \u001b[0mG_2048\u001b[0m\u001b[1;33m.\u001b[0m\u001b[0mgrid\u001b[0m\u001b[1;33m(\u001b[0m\u001b[1;33m)\u001b[0m\u001b[1;33m\u001b[0m\u001b[1;33m\u001b[0m\u001b[0m\n\u001b[0m\u001b[0;32m      5\u001b[0m \u001b[0mroot\u001b[0m \u001b[1;33m=\u001b[0m \u001b[0mtk\u001b[0m\u001b[1;33m.\u001b[0m\u001b[0mFrame\u001b[0m\u001b[1;33m(\u001b[0m\u001b[0mwindow\u001b[0m\u001b[1;33m)\u001b[0m\u001b[1;33m\u001b[0m\u001b[1;33m\u001b[0m\u001b[0m\n\u001b[0;32m      6\u001b[0m \u001b[0mcan\u001b[0m \u001b[1;33m=\u001b[0m \u001b[0mCanvas\u001b[0m\u001b[1;33m(\u001b[0m\u001b[0mroot\u001b[0m\u001b[1;33m,\u001b[0m \u001b[0mwidth\u001b[0m\u001b[1;33m=\u001b[0m\u001b[1;34m'200'\u001b[0m\u001b[1;33m,\u001b[0m \u001b[0mheight\u001b[0m\u001b[1;33m=\u001b[0m\u001b[1;34m'200'\u001b[0m\u001b[1;33m,\u001b[0m \u001b[0mbg\u001b[0m\u001b[1;33m=\u001b[0m\u001b[1;34m\"black\"\u001b[0m\u001b[1;33m)\u001b[0m\u001b[1;33m\u001b[0m\u001b[1;33m\u001b[0m\u001b[0m\n",
      "\u001b[1;32m~\\AppData\\Local\\Programs\\Python\\Python39\\lib\\tkinter\\__init__.py\u001b[0m in \u001b[0;36mwm_grid\u001b[1;34m(self, baseWidth, baseHeight, widthInc, heightInc)\u001b[0m\n\u001b[0;32m   2053\u001b[0m         \u001b[0mheight\u001b[0m \u001b[0mof\u001b[0m \u001b[0ma\u001b[0m \u001b[0mgrid\u001b[0m \u001b[0munit\u001b[0m \u001b[1;32min\u001b[0m \u001b[0mpixels\u001b[0m\u001b[1;33m.\u001b[0m \u001b[0mBASEWIDTH\u001b[0m \u001b[1;32mand\u001b[0m \u001b[0mBASEHEIGHT\u001b[0m \u001b[0mare\u001b[0m \u001b[0mthe\u001b[0m\u001b[1;33m\u001b[0m\u001b[1;33m\u001b[0m\u001b[0m\n\u001b[0;32m   2054\u001b[0m         number of grid units requested in Tk_GeometryRequest.\"\"\"\n\u001b[1;32m-> 2055\u001b[1;33m         return self._getints(self.tk.call(\n\u001b[0m\u001b[0;32m   2056\u001b[0m             \u001b[1;34m'wm'\u001b[0m\u001b[1;33m,\u001b[0m \u001b[1;34m'grid'\u001b[0m\u001b[1;33m,\u001b[0m \u001b[0mself\u001b[0m\u001b[1;33m.\u001b[0m\u001b[0m_w\u001b[0m\u001b[1;33m,\u001b[0m\u001b[1;33m\u001b[0m\u001b[1;33m\u001b[0m\u001b[0m\n\u001b[0;32m   2057\u001b[0m             baseWidth, baseHeight, widthInc, heightInc))\n",
      "\u001b[1;31mTclError\u001b[0m: can't invoke \"wm\" command: application has been destroyed"
     ]
    }
   ],
   "source": [
    "window = tk.Tk()\n",
    "G_2048 = tk.Toplevel(window)\n",
    "window.mainloop()\n",
    "G_2048.grid()\n",
    "root = tk.Frame(window)\n",
    "can = Canvas(root, width='200', height='200', bg=\"black\")\n",
    "can.pack()\n",
    "e=10\n",
    "h = 200\n",
    "w = 200\n",
    "pts = [(e,h/2),(w/2,h-e),(w-e,h/2),(w/2,e)]\n",
    "can.create_polygon(pts, dash=(4, 2), fill=\"magenta\", outline=\"yellow\", width=3)\n"
   ]
  }
 ],
 "metadata": {
  "interpreter": {
   "hash": "25630b4551666bd3556ea228859a0ff35ba1037237cd490f27c3fa95657baf15"
  },
  "kernelspec": {
   "display_name": "Python 3.9.7 64-bit",
   "language": "python",
   "name": "python3"
  },
  "language_info": {
   "codemirror_mode": {
    "name": "ipython",
    "version": 3
   },
   "file_extension": ".py",
   "mimetype": "text/x-python",
   "name": "python",
   "nbconvert_exporter": "python",
   "pygments_lexer": "ipython3",
   "version": "3.9.7"
  },
  "orig_nbformat": 4
 },
 "nbformat": 4,
 "nbformat_minor": 2
}
